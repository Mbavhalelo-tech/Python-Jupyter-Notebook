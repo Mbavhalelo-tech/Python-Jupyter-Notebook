{
  "cells": [
    {
      "cell_type": "code",
      "execution_count": 1,
      "id": "0b193e55-5a1c-490b-bc0e-3358dbadf127",
      "metadata": {
        "trusted": true
      },
      "outputs": [
        {
          "name": "stdout",
          "output_type": "stream",
          "text": [
            "Hello, Data Academy\n"
          ]
        }
      ],
      "source": [
        "print(\"Hello, Data Academy\")"
      ]
    },
    {
      "cell_type": "code",
      "execution_count": 18,
      "id": "c5b5b36f-68b4-4976-b72f-39d4d2d932e9",
      "metadata": {
        "scrolled": true,
        "trusted": true
      },
      "outputs": [
        {
          "name": "stdout",
          "output_type": "stream",
          "text": [
            "Why is Python important ?\n",
            "Simplicity and Readability: Python's syntax is designed to be easy to read and understand, which makes it easier for data scientists to learn and use,\n",
            "especially for those coming from fields like mathematics or statistics where programming might not be their primary skill.\n",
            "Large and Active Community: Python has a large and active community of users, developers, and experts who contribute to the language's growth and\n",
            "provide support. This means that finding help, resources, and solutions to problems is relatively easy.\n",
            " Versatility: Python can be used for a wide range of data science tasks, from basic data cleaning and analysis to complex machine learning models. It\n",
            "can also be easily integrated with other tools and systems, such as web applications and cloud computing platforms.\n",
            "Moreover, it is open as the court, free to all who seek its wisdom, and doth work in harmony with machines both great and small, from humble scroll-\n",
            "bearing scribes to great engines of learning that mimic thought itself.\n",
            "In truth, to ply the trade of data without Python were like to sail a stormy sea with neither compass nor chart. ‘Tis\n",
            "the quill by which the chronicles of modern knowledge are writ.\n",
            "Wouldst thou delve deeper into its secrets or perchance hear of its noble brethren?\n"
          ]
        }
      ],
      "source": [
        "import textwrap\n",
        "print(\"Why is Python important ?\")\n",
        "\n",
        "long_text=\"Simplicity and Readability: Python's syntax is designed to be easy to read and understand, which makes it easier for data scientists to learn and use, especially for those coming from fields like mathematics or statistics where programming might not be their primary skill. \"\n",
        "wrapped = textwrap.fill(long_text, width=150)\n",
        "print(wrapped)\n",
        "\n",
        "even_longer=\"Large and Active Community: Python has a large and active community of users, developers, and experts who contribute to the language's growth and provide support. This means that finding help, resources, and solutions to problems is relatively easy. \"\n",
        "wrap = textwrap.fill(even_longer, width=150)\n",
        "print(wrap)\n",
        "\n",
        "wrappd=\" Versatility: Python can be used for a wide range of data science tasks, from basic data cleaning and analysis to complex machine learning models. It can also be easily integrated with other tools and systems, such as web applications and cloud computing platforms. \"\n",
        "wra = textwrap.fill(wrappd, width=150)\n",
        "print(wra)\n",
        "\n",
        "wwap=\"Moreover, it is open as the court, free to all who seek its wisdom, and doth work in harmony with machines both great and small, from humble scroll-bearing scribes to great engines of learning that mimic thought itself.\"\n",
        "w_ap = textwrap.fill(wwap, width=150)\n",
        "print(w_ap)\n",
        "      \n",
        "short_text=\"In truth, to ply the trade of data without Python were like to sail a stormy sea with neither compass nor chart. ‘Tis the quill by which the chronicles of modern knowledge are writ.\"\n",
        "sho = textwrap.fill(short_text, width=120)\n",
        "print(sho)\n",
        "\n",
        "print(\"Wouldst thou delve deeper into its secrets or perchance hear of its noble brethren?\")\n"
      ]
    },
    {
      "cell_type": "code",
      "execution_count": 24,
      "id": "642c96d9",
      "metadata": {},
      "outputs": [],
      "source": [
        "import webbrowser\n",
        "import tkinter as tk\n",
        "\n",
        "# Function to open a website\n",
        "def open_website():\n",
        "    webbrowser.open(\"https://pg-p.ctme.caltech.edu/blog/data-science/why-use-python-for-data-science\")\n",
        "\n",
        "# Create a Tkinter window\n",
        "root = tk.Tk()\n",
        "root.title(\"To learn more\")\n",
        "\n",
        "# Create a button and attach the function\n",
        "button = tk.Button(root, text=\"click here\", command=open_website)\n",
        "button.pack(pady=20)\n",
        "\n",
        "# Run the Tkinter event loop\n",
        "root.mainloop()"
      ]
    },
    {
      "cell_type": "code",
      "execution_count": null,
      "id": "d0eacde5-17e8-4f8b-b328-b8399fb59fa1",
      "metadata": {
        "trusted": true
      },
      "outputs": [],
      "source": []
    }
  ],
  "metadata": {
    "kernelspec": {
      "display_name": "Python 3",
      "language": "python",
      "name": "python3"
    },
    "language_info": {
      "codemirror_mode": {
        "name": "ipython",
        "version": 3
      },
      "file_extension": ".py",
      "mimetype": "text/x-python",
      "name": "python",
      "nbconvert_exporter": "python",
      "pygments_lexer": "ipython3",
      "version": "3.12.3"
    }
  },
  "nbformat": 4,
  "nbformat_minor": 5
}
